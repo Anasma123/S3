{
 "cells": [
  {
   "cell_type": "code",
   "execution_count": 1,
   "id": "02c82d51",
   "metadata": {},
   "outputs": [],
   "source": [
    "def fun():\n",
    "    print(\"bro\")"
   ]
  },
  {
   "cell_type": "code",
   "execution_count": 2,
   "id": "a12eefb2",
   "metadata": {},
   "outputs": [
    {
     "name": "stdout",
     "output_type": "stream",
     "text": [
      "bro\n"
     ]
    }
   ],
   "source": [
    "fun()"
   ]
  },
  {
   "cell_type": "code",
   "execution_count": 30,
   "id": "61e3e96f",
   "metadata": {},
   "outputs": [
    {
     "data": {
      "text/plain": [
       "11"
      ]
     },
     "execution_count": 30,
     "metadata": {},
     "output_type": "execute_result"
    }
   ],
   "source": [
    "def ad(a,b):\n",
    "    c = a + b\n",
    "    return c\n",
    "ad(4,7)"
   ]
  },
  {
   "cell_type": "code",
   "execution_count": 5,
   "id": "b9b5aa6d",
   "metadata": {},
   "outputs": [
    {
     "name": "stdout",
     "output_type": "stream",
     "text": [
      "[2, 4, 6, 7, 5]\n"
     ]
    }
   ],
   "source": [
    "a=[2,4,6,7,5]\n",
    "print(a)"
   ]
  },
  {
   "cell_type": "code",
   "execution_count": 7,
   "id": "4fe579e1",
   "metadata": {},
   "outputs": [
    {
     "data": {
      "text/plain": [
       "['python', 'full', 'stack', 'dev']"
      ]
     },
     "execution_count": 7,
     "metadata": {},
     "output_type": "execute_result"
    }
   ],
   "source": [
    "b=\"python full stack dev\"\n",
    "b.split()"
   ]
  },
  {
   "cell_type": "code",
   "execution_count": 14,
   "id": "9340a9ad",
   "metadata": {},
   "outputs": [
    {
     "name": "stdout",
     "output_type": "stream",
     "text": [
      "['python', 'full', 'stack', 'dev']\n"
     ]
    }
   ],
   "source": [
    "b=\"python,full,stack,dev\"\n",
    "ab=b.split(\",\")\n",
    "\n",
    "print(ab)"
   ]
  },
  {
   "cell_type": "code",
   "execution_count": 15,
   "id": "87f52def",
   "metadata": {},
   "outputs": [
    {
     "data": {
      "text/plain": [
       "'python'"
      ]
     },
     "execution_count": 15,
     "metadata": {},
     "output_type": "execute_result"
    }
   ],
   "source": [
    "ab[0]"
   ]
  },
  {
   "cell_type": "code",
   "execution_count": 20,
   "id": "010d1787",
   "metadata": {},
   "outputs": [
    {
     "name": "stdout",
     "output_type": "stream",
     "text": [
      "1\n",
      "2\n",
      "3\n",
      "4\n",
      "5\n"
     ]
    }
   ],
   "source": [
    "k=[1,2,3,4,5]\n",
    "for i in k:\n",
    "    print(i)"
   ]
  },
  {
   "cell_type": "code",
   "execution_count": 23,
   "id": "ef183c87",
   "metadata": {},
   "outputs": [
    {
     "name": "stdout",
     "output_type": "stream",
     "text": [
      "10\n",
      "11\n",
      "12\n",
      "13\n"
     ]
    }
   ],
   "source": [
    "for m in range (10,14):\n",
    "    print(m)"
   ]
  },
  {
   "cell_type": "code",
   "execution_count": 25,
   "id": "5a507cd9",
   "metadata": {},
   "outputs": [
    {
     "name": "stdout",
     "output_type": "stream",
     "text": [
      "5\n",
      "4\n",
      "3\n",
      "2\n"
     ]
    }
   ],
   "source": [
    "for p in range (10,1,-1):\n",
    "    print(p)"
   ]
  },
  {
   "cell_type": "code",
   "execution_count": null,
   "id": "9829a7c4",
   "metadata": {},
   "outputs": [],
   "source": []
  }
 ],
 "metadata": {
  "kernelspec": {
   "display_name": "Python 3 (ipykernel)",
   "language": "python",
   "name": "python3"
  },
  "language_info": {
   "codemirror_mode": {
    "name": "ipython",
    "version": 3
   },
   "file_extension": ".py",
   "mimetype": "text/x-python",
   "name": "python",
   "nbconvert_exporter": "python",
   "pygments_lexer": "ipython3",
   "version": "3.9.7"
  }
 },
 "nbformat": 4,
 "nbformat_minor": 5
}
